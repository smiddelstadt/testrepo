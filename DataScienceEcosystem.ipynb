{
 "cells": [
  {
   "cell_type": "markdown",
   "id": "189b632a-8dad-4af8-9b40-9757cdf63dad",
   "metadata": {},
   "source": [
    "# Data Science Tools and Ecosystem"
   ]
  },
  {
   "cell_type": "markdown",
   "id": "728e6258-7042-4fcd-8ea4-67fcb3e1c01e",
   "metadata": {
    "tags": []
   },
   "source": [
    "## Author\n",
    "Sam Middelstadt"
   ]
  },
  {
   "cell_type": "markdown",
   "id": "91ad44dc-72bd-4a31-8c67-a91fc97e7136",
   "metadata": {
    "tags": []
   },
   "source": [
    "In this notebook, Data Science Tools and Ecosystem are summarized."
   ]
  },
  {
   "cell_type": "markdown",
   "id": "b2a826bf-117e-4739-ab9e-8be37854771b",
   "metadata": {},
   "source": [
    "**Objectives**\n",
    "- List popular languages for Data Science\n",
    "- Common libraries used for Data Science\n",
    "- Examples of arithmetic expression in Python\n"
   ]
  },
  {
   "cell_type": "markdown",
   "id": "c335bc66-116b-4717-9fca-6518af405987",
   "metadata": {},
   "source": [
    "Some of the popular languages that Data Scientists use are:\n",
    "\n",
    "1. Python\n",
    "2. R\n",
    "3. C++"
   ]
  },
  {
   "cell_type": "markdown",
   "id": "cca1b48b-2fc1-4c17-a7ca-ad9808661ce2",
   "metadata": {},
   "source": [
    "Some of the commonly used libraries used by Data Scientists include:\n",
    "\n",
    "1. Pandas\n",
    "2. Numpy\n",
    "3. Matplotlib"
   ]
  },
  {
   "cell_type": "markdown",
   "id": "178788cb-991c-447f-9fa3-a30dc4385500",
   "metadata": {},
   "source": [
    "| Data Science Tools|\n",
    "----------------------\n",
    "|MySQL|\n",
    "|MongoDB|\n",
    "|Ceph|\n"
   ]
  },
  {
   "cell_type": "markdown",
   "id": "820a9b90-b765-480a-a60c-e32b7a89d76d",
   "metadata": {
    "tags": []
   },
   "source": [
    "### Below are a few examples of evaluating arithmetic expressions in Python"
   ]
  },
  {
   "cell_type": "code",
   "execution_count": 2,
   "id": "1bc68be7-8c05-4ac5-b4f9-cba815caab1f",
   "metadata": {
    "tags": []
   },
   "outputs": [
    {
     "data": {
      "text/plain": [
       "17"
      ]
     },
     "execution_count": 2,
     "metadata": {},
     "output_type": "execute_result"
    }
   ],
   "source": [
    "# This is a simple arithmetic expression to multiply then add integers.\n",
    "\n",
    "(3*4)+5"
   ]
  },
  {
   "cell_type": "code",
   "execution_count": 3,
   "id": "33759543-3fa1-4428-aa8b-0a2588daa93b",
   "metadata": {
    "tags": []
   },
   "outputs": [
    {
     "data": {
      "text/plain": [
       "3.3333333333333335"
      ]
     },
     "execution_count": 3,
     "metadata": {},
     "output_type": "execute_result"
    }
   ],
   "source": [
    "# This will convert 200 minutes to hours by dividing by 60\n",
    "\n",
    "200/60"
   ]
  },
  {
   "cell_type": "code",
   "execution_count": null,
   "id": "0e0d8029-6075-4993-9bc4-8f27eccbf55c",
   "metadata": {},
   "outputs": [],
   "source": []
  }
 ],
 "metadata": {
  "kernelspec": {
   "display_name": "Python",
   "language": "python",
   "name": "conda-env-python-py"
  },
  "language_info": {
   "codemirror_mode": {
    "name": "ipython",
    "version": 3
   },
   "file_extension": ".py",
   "mimetype": "text/x-python",
   "name": "python",
   "nbconvert_exporter": "python",
   "pygments_lexer": "ipython3",
   "version": "3.7.12"
  }
 },
 "nbformat": 4,
 "nbformat_minor": 5
}
